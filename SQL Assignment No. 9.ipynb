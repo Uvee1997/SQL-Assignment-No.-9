{
 "cells": [
  {
   "cell_type": "markdown",
   "id": "9b7a6ff2",
   "metadata": {},
   "source": [
    "1) Write an SQL query to show the top n (say 10) records of a table. \n",
    "\n",
    ":- select * from worker order by salary DESC limit 10;"
   ]
  },
  {
   "cell_type": "markdown",
   "id": "16976ee5",
   "metadata": {},
   "source": [
    "2) Write an SQL query to determine the nth (say n=5) highest salary from a table.\n",
    "\n",
    ":- select * from worker order by salary DESC limit n-1,1;\n",
    "\n",
    "  ### The following SQL query returns nth highest salary\n",
    "  SELECT TOP 1 Salary\n",
    "  FROM (\n",
    "  SELECT DISTINCT TOP n Salary\n",
    "  FROM Worker \n",
    "  ORDER BY Salary DESC\n",
    "   )\n",
    "  ORDER BY Salary ASC;"
   ]
  }
 ],
 "metadata": {
  "kernelspec": {
   "display_name": "Python 3 (ipykernel)",
   "language": "python",
   "name": "python3"
  },
  "language_info": {
   "codemirror_mode": {
    "name": "ipython",
    "version": 3
   },
   "file_extension": ".py",
   "mimetype": "text/x-python",
   "name": "python",
   "nbconvert_exporter": "python",
   "pygments_lexer": "ipython3",
   "version": "3.9.7"
  }
 },
 "nbformat": 4,
 "nbformat_minor": 5
}
